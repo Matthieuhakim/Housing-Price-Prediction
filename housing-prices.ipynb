{
 "metadata": {
  "language_info": {
   "codemirror_mode": {
    "name": "python",
    "version": 3
   },
   "file_extension": ".py",
   "mimetype": "text/x-python",
   "name": "python",
   "nbconvert_exporter": "python",
   "pygments_lexer": "ipython3",
   "version": "3.8"
  },
  "kernelspec": {
   "name": "python3",
   "language": "python",
   "display_name": "Python 3 (ipykernel)"
  }
 },
 "nbformat_minor": 4,
 "nbformat": 4,
 "cells": [
  {
   "cell_type": "raw",
   "source": [
    "Load the dataset"
   ],
   "metadata": {}
  },
  {
   "cell_type": "code",
   "source": [
    "import pandas as pd\n",
    "import numpy as np\n",
    "\n",
    "import seaborn as sns\n",
    "import matplotlib.pyplot as plt\n",
    "from pandas.plotting import scatter_matrix\n",
    "\n",
    "from sklearn.model_selection import train_test_split\n",
    "from sklearn.linear_model import LogisticRegression\n",
    "from sklearn.impute import SimpleImputer\n",
    "from sklearn.preprocessing import MinMaxScaler\n",
    "from sklearn.metrics import mean_absolute_error, mean_squared_error, r2_score\n",
    "\n",
    "\n",
    "# Load the training and testing datasets\n",
    "train_dt = pd.read_csv('train.csv')\n",
    "test_dt = pd.read_csv('test.csv')\n",
    "\n"
   ],
   "metadata": {
    "trusted": true,
    "ExecuteTime": {
     "end_time": "2023-09-26T11:38:04.443256Z",
     "start_time": "2023-09-26T11:38:03.990263Z"
    }
   },
   "execution_count": 1,
   "outputs": []
  },
  {
   "cell_type": "raw",
   "source": [
    "Pre-processing"
   ],
   "metadata": {}
  },
  {
   "cell_type": "raw",
   "source": [
    "Step 1: Remove unnecessary features"
   ],
   "metadata": {}
  },
  {
   "cell_type": "code",
   "source": [
    "# Remove ids, the only feature not needed\n",
    "train_dt = train_dt.drop('Id', axis=1)\n",
    "\n",
    "original_ids = test_dt['Id']\n",
    "test_dt = test_dt.drop('Id', axis=1)\n",
    "\n",
    "# X contains features, and y contains the target variable\n",
    "X = train_dt.drop('SalePrice', axis=1)\n",
    "y = train_dt['SalePrice']\n",
    "\n",
    "# Identify the columns present in X but not in test_dt\n",
    "extra_columns = set(X.columns) - set(test_dt.columns)\n",
    "\n",
    "# Drop the extra columns from train_dt\n",
    "X = X.drop(extra_columns, axis=1)\n",
    "\n",
    "print(\"Number of columns for X:\", X.shape[1])\n",
    "print(\"Number of columns for test_dt:\", test_dt.shape[1])\n"
   ],
   "metadata": {
    "trusted": true,
    "ExecuteTime": {
     "end_time": "2023-09-26T11:38:04.451992Z",
     "start_time": "2023-09-26T11:38:04.445670Z"
    }
   },
   "execution_count": 2,
   "outputs": [
    {
     "name": "stdout",
     "output_type": "stream",
     "text": [
      "Number of columns for X: 79\n",
      "Number of columns for test_dt: 79\n"
     ]
    }
   ]
  },
  {
   "cell_type": "raw",
   "source": [
    "Step 2: Convert non-numerical variables into numerical format using One-Hot Encoding"
   ],
   "metadata": {}
  },
  {
   "cell_type": "code",
   "source": [
    "# Combine train and test datasets for on-hot encoding\n",
    "combined_data = pd.concat([X, test_dt], axis=0, ignore_index=True)\n",
    "\n",
    "# Identify columns with non-numerical values in the combined dataset\n",
    "categorical_columns = combined_data.select_dtypes(include=['object']).columns\n",
    "\n",
    "# Apply one-hot encoding to the combined dataset\n",
    "combined_data = pd.get_dummies(combined_data, columns=categorical_columns, prefix=categorical_columns)\n",
    "\n",
    "# Split the combined data back into train and test datasets\n",
    "X = combined_data.iloc[:len(X)]\n",
    "test_dt = combined_data.iloc[len(train_dt):]\n",
    "\n",
    "print(\"Number of columns for X:\", X.shape[1])\n",
    "print(\"Number of columns for test_dt:\", test_dt.shape[1])"
   ],
   "metadata": {
    "trusted": true,
    "ExecuteTime": {
     "end_time": "2023-09-26T11:38:04.493724Z",
     "start_time": "2023-09-26T11:38:04.451857Z"
    }
   },
   "execution_count": 3,
   "outputs": [
    {
     "name": "stdout",
     "output_type": "stream",
     "text": [
      "Number of columns for X: 287\n",
      "Number of columns for test_dt: 287\n"
     ]
    }
   ]
  },
  {
   "cell_type": "raw",
   "source": [
    "Step 3: Remove missing values with mean"
   ],
   "metadata": {}
  },
  {
   "cell_type": "code",
   "source": [
    "# Identify columns with missing values from combined dataset\n",
    "missing_columns = combined_data.columns[combined_data.isna().any()].tolist()\n",
    "\n",
    "# Make deep copies of the DataFrames\n",
    "X_copy = X.copy(deep=True)\n",
    "test_dt_copy = test_dt.copy(deep=True)\n",
    "\n",
    "# Replace null values with mean\n",
    "imputer = SimpleImputer(strategy='mean') \n",
    "\n",
    "\n",
    "X_copy.loc[:, missing_columns] = imputer.fit_transform(X_copy.loc[:, missing_columns])\n",
    "test_dt_copy.loc[:, missing_columns] = imputer.transform(test_dt_copy.loc[:, missing_columns])\n",
    "\n",
    "X = X_copy\n",
    "test_dt = test_dt_copy\n",
    "\n",
    "print(\"Number of columns for X:\", X.shape[1])\n",
    "print(\"Number of columns for test_dt:\", test_dt.shape[1])"
   ],
   "metadata": {
    "trusted": true,
    "ExecuteTime": {
     "end_time": "2023-09-26T11:38:04.494137Z",
     "start_time": "2023-09-26T11:38:04.476922Z"
    }
   },
   "execution_count": 4,
   "outputs": [
    {
     "name": "stdout",
     "output_type": "stream",
     "text": [
      "Number of columns for X: 287\n",
      "Number of columns for test_dt: 287\n"
     ]
    }
   ]
  },
  {
   "cell_type": "raw",
   "source": [
    "Step 4: Scale data"
   ],
   "metadata": {}
  },
  {
   "cell_type": "code",
   "source": [
    "#Scale data before training\n",
    "scaler = MinMaxScaler()\n",
    "X_scaled = scaler.fit_transform(X)\n",
    "test_dt_scaled = scaler.fit_transform(test_dt)\n",
    "\n",
    "# Convert the scaled NumPy array back to a Pandas DataFrame\n",
    "X = pd.DataFrame(X_scaled, columns=X.columns)\n",
    "test_dt = pd.DataFrame(test_dt_scaled, columns=test_dt.columns)\n",
    "\n",
    "#Show first few rows of X to visualize data\n",
    "X.head(10)"
   ],
   "metadata": {
    "trusted": true,
    "ExecuteTime": {
     "end_time": "2023-09-26T11:38:04.546522Z",
     "start_time": "2023-09-26T11:38:04.485854Z"
    }
   },
   "execution_count": 5,
   "outputs": [
    {
     "data": {
      "text/plain": "   MSSubClass  LotFrontage   LotArea  OverallQual  OverallCond  YearBuilt  \\\n0    0.235294     0.150685  0.033420     0.666667        0.500   0.949275   \n1    0.000000     0.202055  0.038795     0.555556        0.875   0.753623   \n2    0.235294     0.160959  0.046507     0.666667        0.500   0.934783   \n3    0.294118     0.133562  0.038561     0.666667        0.500   0.311594   \n4    0.235294     0.215753  0.060576     0.777778        0.500   0.927536   \n5    0.176471     0.219178  0.059899     0.444444        0.500   0.876812   \n6    0.000000     0.184932  0.041057     0.777778        0.500   0.956522   \n7    0.235294     0.167979  0.042450     0.666667        0.625   0.731884   \n8    0.176471     0.102740  0.022529     0.666667        0.500   0.427536   \n9    1.000000     0.099315  0.028605     0.444444        0.625   0.485507   \n\n   YearRemodAdd  MasVnrArea  BsmtFinSF1  BsmtFinSF2  ...  SaleType_ConLw  \\\n0      0.883333     0.12250    0.125089     0.00000  ...             0.0   \n1      0.433333     0.00000    0.173281     0.00000  ...             0.0   \n2      0.866667     0.10125    0.086109     0.00000  ...             0.0   \n3      0.333333     0.00000    0.038271     0.00000  ...             0.0   \n4      0.833333     0.21875    0.116052     0.00000  ...             0.0   \n5      0.750000     0.00000    0.129695     0.00000  ...             0.0   \n6      0.916667     0.11625    0.242558     0.00000  ...             0.0   \n7      0.383333     0.15000    0.152197     0.02171  ...             0.0   \n8      0.000000     0.00000    0.000000     0.00000  ...             0.0   \n9      0.000000     0.00000    0.150780     0.00000  ...             0.0   \n\n   SaleType_New  SaleType_Oth  SaleType_WD  SaleCondition_Abnorml  \\\n0           0.0           0.0          1.0                    0.0   \n1           0.0           0.0          1.0                    0.0   \n2           0.0           0.0          1.0                    0.0   \n3           0.0           0.0          1.0                    1.0   \n4           0.0           0.0          1.0                    0.0   \n5           0.0           0.0          1.0                    0.0   \n6           0.0           0.0          1.0                    0.0   \n7           0.0           0.0          1.0                    0.0   \n8           0.0           0.0          1.0                    1.0   \n9           0.0           0.0          1.0                    0.0   \n\n   SaleCondition_AdjLand  SaleCondition_Alloca  SaleCondition_Family  \\\n0                    0.0                   0.0                   0.0   \n1                    0.0                   0.0                   0.0   \n2                    0.0                   0.0                   0.0   \n3                    0.0                   0.0                   0.0   \n4                    0.0                   0.0                   0.0   \n5                    0.0                   0.0                   0.0   \n6                    0.0                   0.0                   0.0   \n7                    0.0                   0.0                   0.0   \n8                    0.0                   0.0                   0.0   \n9                    0.0                   0.0                   0.0   \n\n   SaleCondition_Normal  SaleCondition_Partial  \n0                   1.0                    0.0  \n1                   1.0                    0.0  \n2                   1.0                    0.0  \n3                   0.0                    0.0  \n4                   1.0                    0.0  \n5                   1.0                    0.0  \n6                   1.0                    0.0  \n7                   1.0                    0.0  \n8                   0.0                    0.0  \n9                   1.0                    0.0  \n\n[10 rows x 287 columns]",
      "text/html": "<div>\n<style scoped>\n    .dataframe tbody tr th:only-of-type {\n        vertical-align: middle;\n    }\n\n    .dataframe tbody tr th {\n        vertical-align: top;\n    }\n\n    .dataframe thead th {\n        text-align: right;\n    }\n</style>\n<table border=\"1\" class=\"dataframe\">\n  <thead>\n    <tr style=\"text-align: right;\">\n      <th></th>\n      <th>MSSubClass</th>\n      <th>LotFrontage</th>\n      <th>LotArea</th>\n      <th>OverallQual</th>\n      <th>OverallCond</th>\n      <th>YearBuilt</th>\n      <th>YearRemodAdd</th>\n      <th>MasVnrArea</th>\n      <th>BsmtFinSF1</th>\n      <th>BsmtFinSF2</th>\n      <th>...</th>\n      <th>SaleType_ConLw</th>\n      <th>SaleType_New</th>\n      <th>SaleType_Oth</th>\n      <th>SaleType_WD</th>\n      <th>SaleCondition_Abnorml</th>\n      <th>SaleCondition_AdjLand</th>\n      <th>SaleCondition_Alloca</th>\n      <th>SaleCondition_Family</th>\n      <th>SaleCondition_Normal</th>\n      <th>SaleCondition_Partial</th>\n    </tr>\n  </thead>\n  <tbody>\n    <tr>\n      <th>0</th>\n      <td>0.235294</td>\n      <td>0.150685</td>\n      <td>0.033420</td>\n      <td>0.666667</td>\n      <td>0.500</td>\n      <td>0.949275</td>\n      <td>0.883333</td>\n      <td>0.12250</td>\n      <td>0.125089</td>\n      <td>0.00000</td>\n      <td>...</td>\n      <td>0.0</td>\n      <td>0.0</td>\n      <td>0.0</td>\n      <td>1.0</td>\n      <td>0.0</td>\n      <td>0.0</td>\n      <td>0.0</td>\n      <td>0.0</td>\n      <td>1.0</td>\n      <td>0.0</td>\n    </tr>\n    <tr>\n      <th>1</th>\n      <td>0.000000</td>\n      <td>0.202055</td>\n      <td>0.038795</td>\n      <td>0.555556</td>\n      <td>0.875</td>\n      <td>0.753623</td>\n      <td>0.433333</td>\n      <td>0.00000</td>\n      <td>0.173281</td>\n      <td>0.00000</td>\n      <td>...</td>\n      <td>0.0</td>\n      <td>0.0</td>\n      <td>0.0</td>\n      <td>1.0</td>\n      <td>0.0</td>\n      <td>0.0</td>\n      <td>0.0</td>\n      <td>0.0</td>\n      <td>1.0</td>\n      <td>0.0</td>\n    </tr>\n    <tr>\n      <th>2</th>\n      <td>0.235294</td>\n      <td>0.160959</td>\n      <td>0.046507</td>\n      <td>0.666667</td>\n      <td>0.500</td>\n      <td>0.934783</td>\n      <td>0.866667</td>\n      <td>0.10125</td>\n      <td>0.086109</td>\n      <td>0.00000</td>\n      <td>...</td>\n      <td>0.0</td>\n      <td>0.0</td>\n      <td>0.0</td>\n      <td>1.0</td>\n      <td>0.0</td>\n      <td>0.0</td>\n      <td>0.0</td>\n      <td>0.0</td>\n      <td>1.0</td>\n      <td>0.0</td>\n    </tr>\n    <tr>\n      <th>3</th>\n      <td>0.294118</td>\n      <td>0.133562</td>\n      <td>0.038561</td>\n      <td>0.666667</td>\n      <td>0.500</td>\n      <td>0.311594</td>\n      <td>0.333333</td>\n      <td>0.00000</td>\n      <td>0.038271</td>\n      <td>0.00000</td>\n      <td>...</td>\n      <td>0.0</td>\n      <td>0.0</td>\n      <td>0.0</td>\n      <td>1.0</td>\n      <td>1.0</td>\n      <td>0.0</td>\n      <td>0.0</td>\n      <td>0.0</td>\n      <td>0.0</td>\n      <td>0.0</td>\n    </tr>\n    <tr>\n      <th>4</th>\n      <td>0.235294</td>\n      <td>0.215753</td>\n      <td>0.060576</td>\n      <td>0.777778</td>\n      <td>0.500</td>\n      <td>0.927536</td>\n      <td>0.833333</td>\n      <td>0.21875</td>\n      <td>0.116052</td>\n      <td>0.00000</td>\n      <td>...</td>\n      <td>0.0</td>\n      <td>0.0</td>\n      <td>0.0</td>\n      <td>1.0</td>\n      <td>0.0</td>\n      <td>0.0</td>\n      <td>0.0</td>\n      <td>0.0</td>\n      <td>1.0</td>\n      <td>0.0</td>\n    </tr>\n    <tr>\n      <th>5</th>\n      <td>0.176471</td>\n      <td>0.219178</td>\n      <td>0.059899</td>\n      <td>0.444444</td>\n      <td>0.500</td>\n      <td>0.876812</td>\n      <td>0.750000</td>\n      <td>0.00000</td>\n      <td>0.129695</td>\n      <td>0.00000</td>\n      <td>...</td>\n      <td>0.0</td>\n      <td>0.0</td>\n      <td>0.0</td>\n      <td>1.0</td>\n      <td>0.0</td>\n      <td>0.0</td>\n      <td>0.0</td>\n      <td>0.0</td>\n      <td>1.0</td>\n      <td>0.0</td>\n    </tr>\n    <tr>\n      <th>6</th>\n      <td>0.000000</td>\n      <td>0.184932</td>\n      <td>0.041057</td>\n      <td>0.777778</td>\n      <td>0.500</td>\n      <td>0.956522</td>\n      <td>0.916667</td>\n      <td>0.11625</td>\n      <td>0.242558</td>\n      <td>0.00000</td>\n      <td>...</td>\n      <td>0.0</td>\n      <td>0.0</td>\n      <td>0.0</td>\n      <td>1.0</td>\n      <td>0.0</td>\n      <td>0.0</td>\n      <td>0.0</td>\n      <td>0.0</td>\n      <td>1.0</td>\n      <td>0.0</td>\n    </tr>\n    <tr>\n      <th>7</th>\n      <td>0.235294</td>\n      <td>0.167979</td>\n      <td>0.042450</td>\n      <td>0.666667</td>\n      <td>0.625</td>\n      <td>0.731884</td>\n      <td>0.383333</td>\n      <td>0.15000</td>\n      <td>0.152197</td>\n      <td>0.02171</td>\n      <td>...</td>\n      <td>0.0</td>\n      <td>0.0</td>\n      <td>0.0</td>\n      <td>1.0</td>\n      <td>0.0</td>\n      <td>0.0</td>\n      <td>0.0</td>\n      <td>0.0</td>\n      <td>1.0</td>\n      <td>0.0</td>\n    </tr>\n    <tr>\n      <th>8</th>\n      <td>0.176471</td>\n      <td>0.102740</td>\n      <td>0.022529</td>\n      <td>0.666667</td>\n      <td>0.500</td>\n      <td>0.427536</td>\n      <td>0.000000</td>\n      <td>0.00000</td>\n      <td>0.000000</td>\n      <td>0.00000</td>\n      <td>...</td>\n      <td>0.0</td>\n      <td>0.0</td>\n      <td>0.0</td>\n      <td>1.0</td>\n      <td>1.0</td>\n      <td>0.0</td>\n      <td>0.0</td>\n      <td>0.0</td>\n      <td>0.0</td>\n      <td>0.0</td>\n    </tr>\n    <tr>\n      <th>9</th>\n      <td>1.000000</td>\n      <td>0.099315</td>\n      <td>0.028605</td>\n      <td>0.444444</td>\n      <td>0.625</td>\n      <td>0.485507</td>\n      <td>0.000000</td>\n      <td>0.00000</td>\n      <td>0.150780</td>\n      <td>0.00000</td>\n      <td>...</td>\n      <td>0.0</td>\n      <td>0.0</td>\n      <td>0.0</td>\n      <td>1.0</td>\n      <td>0.0</td>\n      <td>0.0</td>\n      <td>0.0</td>\n      <td>0.0</td>\n      <td>1.0</td>\n      <td>0.0</td>\n    </tr>\n  </tbody>\n</table>\n<p>10 rows × 287 columns</p>\n</div>"
     },
     "execution_count": 5,
     "metadata": {},
     "output_type": "execute_result"
    }
   ]
  },
  {
   "cell_type": "raw",
   "source": [
    "Split Dataset and train the model with train data"
   ],
   "metadata": {}
  },
  {
   "cell_type": "code",
   "source": [
    "# Split training dataset\n",
    "X_train, X_val, y_train, y_val = train_test_split(X, y, test_size=0.3, random_state=42)\n",
    "\n",
    "\n",
    "# Create a Logistic Regression model\n",
    "model = LogisticRegression()\n",
    "\n",
    "# Train the model on the training data\n",
    "model.fit(X_train, y_train)"
   ],
   "metadata": {
    "trusted": true,
    "ExecuteTime": {
     "end_time": "2023-09-26T11:38:08.156654Z",
     "start_time": "2023-09-26T11:38:04.516244Z"
    }
   },
   "execution_count": 6,
   "outputs": [
    {
     "name": "stderr",
     "output_type": "stream",
     "text": [
      "/Library/Python/3.9/site-packages/sklearn/linear_model/_logistic.py:460: ConvergenceWarning: lbfgs failed to converge (status=1):\n",
      "STOP: TOTAL NO. of ITERATIONS REACHED LIMIT.\n",
      "\n",
      "Increase the number of iterations (max_iter) or scale the data as shown in:\n",
      "    https://scikit-learn.org/stable/modules/preprocessing.html\n",
      "Please also refer to the documentation for alternative solver options:\n",
      "    https://scikit-learn.org/stable/modules/linear_model.html#logistic-regression\n",
      "  n_iter_i = _check_optimize_result(\n"
     ]
    },
    {
     "data": {
      "text/plain": "LogisticRegression()",
      "text/html": "<style>#sk-container-id-1 {color: black;}#sk-container-id-1 pre{padding: 0;}#sk-container-id-1 div.sk-toggleable {background-color: white;}#sk-container-id-1 label.sk-toggleable__label {cursor: pointer;display: block;width: 100%;margin-bottom: 0;padding: 0.3em;box-sizing: border-box;text-align: center;}#sk-container-id-1 label.sk-toggleable__label-arrow:before {content: \"▸\";float: left;margin-right: 0.25em;color: #696969;}#sk-container-id-1 label.sk-toggleable__label-arrow:hover:before {color: black;}#sk-container-id-1 div.sk-estimator:hover label.sk-toggleable__label-arrow:before {color: black;}#sk-container-id-1 div.sk-toggleable__content {max-height: 0;max-width: 0;overflow: hidden;text-align: left;background-color: #f0f8ff;}#sk-container-id-1 div.sk-toggleable__content pre {margin: 0.2em;color: black;border-radius: 0.25em;background-color: #f0f8ff;}#sk-container-id-1 input.sk-toggleable__control:checked~div.sk-toggleable__content {max-height: 200px;max-width: 100%;overflow: auto;}#sk-container-id-1 input.sk-toggleable__control:checked~label.sk-toggleable__label-arrow:before {content: \"▾\";}#sk-container-id-1 div.sk-estimator input.sk-toggleable__control:checked~label.sk-toggleable__label {background-color: #d4ebff;}#sk-container-id-1 div.sk-label input.sk-toggleable__control:checked~label.sk-toggleable__label {background-color: #d4ebff;}#sk-container-id-1 input.sk-hidden--visually {border: 0;clip: rect(1px 1px 1px 1px);clip: rect(1px, 1px, 1px, 1px);height: 1px;margin: -1px;overflow: hidden;padding: 0;position: absolute;width: 1px;}#sk-container-id-1 div.sk-estimator {font-family: monospace;background-color: #f0f8ff;border: 1px dotted black;border-radius: 0.25em;box-sizing: border-box;margin-bottom: 0.5em;}#sk-container-id-1 div.sk-estimator:hover {background-color: #d4ebff;}#sk-container-id-1 div.sk-parallel-item::after {content: \"\";width: 100%;border-bottom: 1px solid gray;flex-grow: 1;}#sk-container-id-1 div.sk-label:hover label.sk-toggleable__label {background-color: #d4ebff;}#sk-container-id-1 div.sk-serial::before {content: \"\";position: absolute;border-left: 1px solid gray;box-sizing: border-box;top: 0;bottom: 0;left: 50%;z-index: 0;}#sk-container-id-1 div.sk-serial {display: flex;flex-direction: column;align-items: center;background-color: white;padding-right: 0.2em;padding-left: 0.2em;position: relative;}#sk-container-id-1 div.sk-item {position: relative;z-index: 1;}#sk-container-id-1 div.sk-parallel {display: flex;align-items: stretch;justify-content: center;background-color: white;position: relative;}#sk-container-id-1 div.sk-item::before, #sk-container-id-1 div.sk-parallel-item::before {content: \"\";position: absolute;border-left: 1px solid gray;box-sizing: border-box;top: 0;bottom: 0;left: 50%;z-index: -1;}#sk-container-id-1 div.sk-parallel-item {display: flex;flex-direction: column;z-index: 1;position: relative;background-color: white;}#sk-container-id-1 div.sk-parallel-item:first-child::after {align-self: flex-end;width: 50%;}#sk-container-id-1 div.sk-parallel-item:last-child::after {align-self: flex-start;width: 50%;}#sk-container-id-1 div.sk-parallel-item:only-child::after {width: 0;}#sk-container-id-1 div.sk-dashed-wrapped {border: 1px dashed gray;margin: 0 0.4em 0.5em 0.4em;box-sizing: border-box;padding-bottom: 0.4em;background-color: white;}#sk-container-id-1 div.sk-label label {font-family: monospace;font-weight: bold;display: inline-block;line-height: 1.2em;}#sk-container-id-1 div.sk-label-container {text-align: center;}#sk-container-id-1 div.sk-container {/* jupyter's `normalize.less` sets `[hidden] { display: none; }` but bootstrap.min.css set `[hidden] { display: none !important; }` so we also need the `!important` here to be able to override the default hidden behavior on the sphinx rendered scikit-learn.org. See: https://github.com/scikit-learn/scikit-learn/issues/21755 */display: inline-block !important;position: relative;}#sk-container-id-1 div.sk-text-repr-fallback {display: none;}</style><div id=\"sk-container-id-1\" class=\"sk-top-container\"><div class=\"sk-text-repr-fallback\"><pre>LogisticRegression()</pre><b>In a Jupyter environment, please rerun this cell to show the HTML representation or trust the notebook. <br />On GitHub, the HTML representation is unable to render, please try loading this page with nbviewer.org.</b></div><div class=\"sk-container\" hidden><div class=\"sk-item\"><div class=\"sk-estimator sk-toggleable\"><input class=\"sk-toggleable__control sk-hidden--visually\" id=\"sk-estimator-id-1\" type=\"checkbox\" checked><label for=\"sk-estimator-id-1\" class=\"sk-toggleable__label sk-toggleable__label-arrow\">LogisticRegression</label><div class=\"sk-toggleable__content\"><pre>LogisticRegression()</pre></div></div></div></div></div>"
     },
     "execution_count": 6,
     "metadata": {},
     "output_type": "execute_result"
    }
   ]
  },
  {
   "cell_type": "raw",
   "source": [
    "Evaluate performance using appropriate metrics"
   ],
   "metadata": {}
  },
  {
   "cell_type": "code",
   "source": [
    "# Make predictions on the validation set\n",
    "val_predictions = model.predict(X_val)\n",
    "\n",
    "\n",
    "# Calculate Mean Absolute Error (MAE)\n",
    "mae = mean_absolute_error(y_val, val_predictions)\n",
    "\n",
    "# Calculate Mean Squared Error (MSE)\n",
    "mse = mean_squared_error(y_val, val_predictions)\n",
    "\n",
    "# Calculate Root Mean Squared Error (RMSE)\n",
    "rmse = np.sqrt(mse)\n",
    "\n",
    "# Calculate R-squared (R2)\n",
    "r2 = r2_score(y_val, val_predictions)\n",
    "\n",
    "print(f'Mean Absolute Error: {mae}')\n",
    "print(f'Mean Squared Error: {mse}')\n",
    "print(f'Root Mean Squared Error: {rmse}')\n",
    "print(f'R-squared (R2): {r2}')"
   ],
   "metadata": {
    "trusted": true,
    "ExecuteTime": {
     "end_time": "2023-09-26T11:38:08.211Z",
     "start_time": "2023-09-26T11:38:08.153827Z"
    }
   },
   "execution_count": 7,
   "outputs": [
    {
     "name": "stdout",
     "output_type": "stream",
     "text": [
      "Mean Absolute Error: 31211.714611872147\n",
      "Mean Squared Error: 2746825850.5547943\n",
      "Root Mean Squared Error: 52410.169342931855\n",
      "R-squared (R2): 0.6063644392498031\n"
     ]
    }
   ]
  },
  {
   "cell_type": "raw",
   "source": [
    "Results for test dataset"
   ],
   "metadata": {}
  },
  {
   "cell_type": "code",
   "source": [
    "result = model.predict(test_dt)\n",
    "\n",
    "# Create a DataFrame with the predictions\n",
    "result_df = pd.DataFrame({'Id': original_ids, 'SalePrice': result})\n",
    "\n",
    "# Save the DataFrame to a CSV file in the same directory\n",
    "result_df.to_csv('result.csv', index=False)\n",
    "\n",
    "result_df.head(4)"
   ],
   "metadata": {
    "trusted": true,
    "ExecuteTime": {
     "end_time": "2023-09-26T11:38:08.218540Z",
     "start_time": "2023-09-26T11:38:08.175216Z"
    }
   },
   "execution_count": 8,
   "outputs": [
    {
     "data": {
      "text/plain": "     Id  SalePrice\n0  1461     125000\n1  1462     110000\n2  1463     192000\n3  1464     184000",
      "text/html": "<div>\n<style scoped>\n    .dataframe tbody tr th:only-of-type {\n        vertical-align: middle;\n    }\n\n    .dataframe tbody tr th {\n        vertical-align: top;\n    }\n\n    .dataframe thead th {\n        text-align: right;\n    }\n</style>\n<table border=\"1\" class=\"dataframe\">\n  <thead>\n    <tr style=\"text-align: right;\">\n      <th></th>\n      <th>Id</th>\n      <th>SalePrice</th>\n    </tr>\n  </thead>\n  <tbody>\n    <tr>\n      <th>0</th>\n      <td>1461</td>\n      <td>125000</td>\n    </tr>\n    <tr>\n      <th>1</th>\n      <td>1462</td>\n      <td>110000</td>\n    </tr>\n    <tr>\n      <th>2</th>\n      <td>1463</td>\n      <td>192000</td>\n    </tr>\n    <tr>\n      <th>3</th>\n      <td>1464</td>\n      <td>184000</td>\n    </tr>\n  </tbody>\n</table>\n</div>"
     },
     "execution_count": 8,
     "metadata": {},
     "output_type": "execute_result"
    }
   ]
  }
 ]
}
